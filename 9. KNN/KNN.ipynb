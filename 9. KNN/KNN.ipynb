{
 "cells": [
  {
   "cell_type": "markdown",
   "metadata": {},
   "source": [
    "# KNN (K-Nearest Neighbour)\n",
    "\n",
    "## What?\n",
    "KNN is simple <b>Supervised Learning</b>, which will see K most similiar data based on its <b>distance</b>.\n",
    "\n",
    "KNN can be used for:\n",
    "- Classification\n",
    "- Regression\n",
    "\n",
    "## Is It Good?\n",
    "Pros:\n",
    "- Simple\n",
    "- No need to train model\n",
    "\n",
    "Cons:\n",
    "- Memory\n",
    "- Time\n",
    "\n",
    "## How?\n",
    "Steps:\n",
    "1. Get labeled data\n",
    "2. Calculate distance from input data to each labeled data\n",
    "3. Choose K Nearest Neighbour\n",
    "4. Search for most frequent class (Classification) / calculate average output (Regression)\n",
    "\n",
    "## Simple Case\n",
    "Classification: Deterimine learning grade (Either A, B, or C) for student"
   ]
  },
  {
   "cell_type": "markdown",
   "metadata": {},
   "source": [
    "#### Read Dataset (CSV)"
   ]
  },
  {
   "cell_type": "code",
   "execution_count": 1,
   "metadata": {},
   "outputs": [],
   "source": [
    "#Using Pandas (Python Data Analysis Library)\n",
    "import pandas as pd\n",
    "\n",
    "def read_dataset(filename):\n",
    "    dataset = pd.read_csv(filename)\n",
    "    return dataset"
   ]
  },
  {
   "cell_type": "markdown",
   "metadata": {},
   "source": [
    "#### Distance (Euclidean Distance)"
   ]
  },
  {
   "cell_type": "code",
   "execution_count": 2,
   "metadata": {},
   "outputs": [],
   "source": [
    "from math import sqrt\n",
    "def dist(a, b):\n",
    "    return sqrt((a[0] - b[0])**2 + (a[1] - b[1])**2)"
   ]
  },
  {
   "cell_type": "markdown",
   "metadata": {},
   "source": [
    "#### Mode (Most frequent data)"
   ]
  },
  {
   "cell_type": "code",
   "execution_count": 3,
   "metadata": {},
   "outputs": [],
   "source": [
    "def mode(dataset):\n",
    "    most_frequent_data = dataset[0]\n",
    "    curr_data = dataset[0]\n",
    "    counter = 0\n",
    "    max_counter = 0\n",
    "    for data in dataset:\n",
    "        if curr_data == data:\n",
    "            counter += 1\n",
    "        else:\n",
    "            curr_data = data\n",
    "            counter = 1\n",
    "\n",
    "        if counter > max_counter:\n",
    "            most_frequent_data = curr_data\n",
    "            max_counter = counter\n",
    "    return most_frequent_data"
   ]
  },
  {
   "cell_type": "markdown",
   "metadata": {},
   "source": [
    "#### Plotting Data"
   ]
  },
  {
   "cell_type": "code",
   "execution_count": 14,
   "metadata": {},
   "outputs": [],
   "source": [
    "import matplotlib.pyplot as plt\n",
    "\n",
    "def plot_dataset(dataset):\n",
    "    for grade in ['A','B','C']:\n",
    "        data = dataset[dataset['grade'] == grade]\n",
    "        plt.scatter(data['assignment'], data['exam'], label=grade)\n",
    "    plt.title(\"Labeled Dataset\")\n",
    "    plt.legend()\n",
    "    plt.show()\n",
    "\n",
    "\n",
    "def plot_accuracy(accuracy):\n",
    "    for k in range(len(accuracy)):\n",
    "        plt.scatter(k+1, accuracy[k], label=\"K-\" + str(k+1))\n",
    "    plt.title(\"KNN Accuracy\")\n",
    "    plt.legend()\n",
    "    plt.show()"
   ]
  },
  {
   "cell_type": "markdown",
   "metadata": {},
   "source": [
    "#### KNN"
   ]
  },
  {
   "cell_type": "code",
   "execution_count": 5,
   "metadata": {},
   "outputs": [],
   "source": [
    "def knn(labeled_dataset, input_dataset, max_k_size):\n",
    "    correct_outputs = [0 for i in range(max_k_size)]\n",
    "    total_input_data = len(input_dataset.index)\n",
    "    counter_processed_data = 0\n",
    "\n",
    "    # Predict for each input_data\n",
    "    for idx1, i in input_dataset.iterrows():\n",
    "        # Count distance for each input_data to each dataset\n",
    "        distance_result = []\n",
    "        for idx2, d in labeled_dataset.iterrows():\n",
    "            distance_result.append(dist(i, d))\n",
    "        dataset_copy = labeled_dataset.copy()\n",
    "        dataset_copy['distance'] = distance_result\n",
    "\n",
    "        # Sort by distance\n",
    "        dataset_copy.sort_values(by=['distance'], ascending=True, inplace=True)\n",
    "\n",
    "        # Get k nearest neighbour\n",
    "        for k in range(1, max_k_size+1):\n",
    "            nearest_neighbour = dataset_copy[0:k].sort_values(by=['grade'])\n",
    "            # Get most frequent output grade\n",
    "            predict_class = mode(nearest_neighbour['grade'].values)\n",
    "            true_class = grade(i[0], i[1])\n",
    "\n",
    "            # If predicted value is correct\n",
    "            if predict_class == true_class:\n",
    "                correct_outputs[k-1] += 1\n",
    "\n",
    "        counter_processed_data += 1\n",
    "        if counter_processed_data % int(0.1*total_input_data) == 0:\n",
    "            print(\"Procced Data: {}\".format(counter_processed_data))\n",
    "    print(\"Done!\")\n",
    "\n",
    "    # Accuracy for each k\n",
    "    total_data = len(input_dataset)\n",
    "    result_accuracy = []\n",
    "    for k in range(1, max_k_size+1):\n",
    "        accuracy = correct_outputs[k-1]/total_data*100\n",
    "        result_accuracy.append(accuracy)\n",
    "    return result_accuracy"
   ]
  },
  {
   "cell_type": "markdown",
   "metadata": {},
   "source": [
    "### Main Program"
   ]
  },
  {
   "cell_type": "code",
   "execution_count": 6,
   "metadata": {},
   "outputs": [
    {
     "data": {
      "text/html": [
       "<div>\n",
       "<style scoped>\n",
       "    .dataframe tbody tr th:only-of-type {\n",
       "        vertical-align: middle;\n",
       "    }\n",
       "\n",
       "    .dataframe tbody tr th {\n",
       "        vertical-align: top;\n",
       "    }\n",
       "\n",
       "    .dataframe thead th {\n",
       "        text-align: right;\n",
       "    }\n",
       "</style>\n",
       "<table border=\"1\" class=\"dataframe\">\n",
       "  <thead>\n",
       "    <tr style=\"text-align: right;\">\n",
       "      <th></th>\n",
       "      <th>assignment</th>\n",
       "      <th>exam</th>\n",
       "      <th>grade</th>\n",
       "    </tr>\n",
       "  </thead>\n",
       "  <tbody>\n",
       "    <tr>\n",
       "      <td>0</td>\n",
       "      <td>69</td>\n",
       "      <td>17</td>\n",
       "      <td>C</td>\n",
       "    </tr>\n",
       "    <tr>\n",
       "      <td>1</td>\n",
       "      <td>40</td>\n",
       "      <td>36</td>\n",
       "      <td>C</td>\n",
       "    </tr>\n",
       "    <tr>\n",
       "      <td>2</td>\n",
       "      <td>64</td>\n",
       "      <td>61</td>\n",
       "      <td>B</td>\n",
       "    </tr>\n",
       "    <tr>\n",
       "      <td>3</td>\n",
       "      <td>98</td>\n",
       "      <td>66</td>\n",
       "      <td>B</td>\n",
       "    </tr>\n",
       "    <tr>\n",
       "      <td>4</td>\n",
       "      <td>25</td>\n",
       "      <td>75</td>\n",
       "      <td>B</td>\n",
       "    </tr>\n",
       "  </tbody>\n",
       "</table>\n",
       "</div>"
      ],
      "text/plain": [
       "   assignment  exam grade\n",
       "0          69    17     C\n",
       "1          40    36     C\n",
       "2          64    61     B\n",
       "3          98    66     B\n",
       "4          25    75     B"
      ]
     },
     "execution_count": 6,
     "metadata": {},
     "output_type": "execute_result"
    }
   ],
   "source": [
    "# Read Dataset\n",
    "filename = 'grade_dataset.csv'\n",
    "full_dataset = read_dataset(filename)\n",
    "full_dataset.head()"
   ]
  },
  {
   "cell_type": "code",
   "execution_count": 7,
   "metadata": {},
   "outputs": [],
   "source": [
    "# Slicing\n",
    "total_row = len(full_dataset.index)\n",
    "slicing = 0.4"
   ]
  },
  {
   "cell_type": "code",
   "execution_count": 8,
   "metadata": {},
   "outputs": [
    {
     "data": {
      "text/html": [
       "<div>\n",
       "<style scoped>\n",
       "    .dataframe tbody tr th:only-of-type {\n",
       "        vertical-align: middle;\n",
       "    }\n",
       "\n",
       "    .dataframe tbody tr th {\n",
       "        vertical-align: top;\n",
       "    }\n",
       "\n",
       "    .dataframe thead th {\n",
       "        text-align: right;\n",
       "    }\n",
       "</style>\n",
       "<table border=\"1\" class=\"dataframe\">\n",
       "  <thead>\n",
       "    <tr style=\"text-align: right;\">\n",
       "      <th></th>\n",
       "      <th>assignment</th>\n",
       "      <th>exam</th>\n",
       "      <th>grade</th>\n",
       "    </tr>\n",
       "  </thead>\n",
       "  <tbody>\n",
       "    <tr>\n",
       "      <td>0</td>\n",
       "      <td>69</td>\n",
       "      <td>17</td>\n",
       "      <td>C</td>\n",
       "    </tr>\n",
       "    <tr>\n",
       "      <td>1</td>\n",
       "      <td>40</td>\n",
       "      <td>36</td>\n",
       "      <td>C</td>\n",
       "    </tr>\n",
       "    <tr>\n",
       "      <td>2</td>\n",
       "      <td>64</td>\n",
       "      <td>61</td>\n",
       "      <td>B</td>\n",
       "    </tr>\n",
       "    <tr>\n",
       "      <td>3</td>\n",
       "      <td>98</td>\n",
       "      <td>66</td>\n",
       "      <td>B</td>\n",
       "    </tr>\n",
       "    <tr>\n",
       "      <td>4</td>\n",
       "      <td>25</td>\n",
       "      <td>75</td>\n",
       "      <td>B</td>\n",
       "    </tr>\n",
       "    <tr>\n",
       "      <td>...</td>\n",
       "      <td>...</td>\n",
       "      <td>...</td>\n",
       "      <td>...</td>\n",
       "    </tr>\n",
       "    <tr>\n",
       "      <td>155</td>\n",
       "      <td>23</td>\n",
       "      <td>20</td>\n",
       "      <td>C</td>\n",
       "    </tr>\n",
       "    <tr>\n",
       "      <td>156</td>\n",
       "      <td>27</td>\n",
       "      <td>59</td>\n",
       "      <td>C</td>\n",
       "    </tr>\n",
       "    <tr>\n",
       "      <td>157</td>\n",
       "      <td>57</td>\n",
       "      <td>77</td>\n",
       "      <td>B</td>\n",
       "    </tr>\n",
       "    <tr>\n",
       "      <td>158</td>\n",
       "      <td>41</td>\n",
       "      <td>40</td>\n",
       "      <td>C</td>\n",
       "    </tr>\n",
       "    <tr>\n",
       "      <td>159</td>\n",
       "      <td>45</td>\n",
       "      <td>69</td>\n",
       "      <td>B</td>\n",
       "    </tr>\n",
       "  </tbody>\n",
       "</table>\n",
       "<p>160 rows × 3 columns</p>\n",
       "</div>"
      ],
      "text/plain": [
       "     assignment  exam grade\n",
       "0            69    17     C\n",
       "1            40    36     C\n",
       "2            64    61     B\n",
       "3            98    66     B\n",
       "4            25    75     B\n",
       "..          ...   ...   ...\n",
       "155          23    20     C\n",
       "156          27    59     C\n",
       "157          57    77     B\n",
       "158          41    40     C\n",
       "159          45    69     B\n",
       "\n",
       "[160 rows x 3 columns]"
      ]
     },
     "execution_count": 8,
     "metadata": {},
     "output_type": "execute_result"
    }
   ],
   "source": [
    "# Labeled dataset\n",
    "labeled_dataset = full_dataset[0:int(total_row*slicing)]\n",
    "labeled_dataset"
   ]
  },
  {
   "cell_type": "code",
   "execution_count": 9,
   "metadata": {},
   "outputs": [
    {
     "data": {
      "image/png": "[encoded data removed]",
      "text/plain": [
       "<Figure size 432x288 with 1 Axes>"
      ]
     },
     "metadata": {
      "needs_background": "light"
     },
     "output_type": "display_data"
    }
   ],
   "source": [
    "# Plot labeled dataset\n",
    "plot_dataset(labeled_dataset)"
   ]
  },
  {
   "cell_type": "code",
   "execution_count": 10,
   "metadata": {},
   "outputs": [
    {
     "data": {
      "text/html": [
       "<div>\n",
       "<style scoped>\n",
       "    .dataframe tbody tr th:only-of-type {\n",
       "        vertical-align: middle;\n",
       "    }\n",
       "\n",
       "    .dataframe tbody tr th {\n",
       "        vertical-align: top;\n",
       "    }\n",
       "\n",
       "    .dataframe thead th {\n",
       "        text-align: right;\n",
       "    }\n",
       "</style>\n",
       "<table border=\"1\" class=\"dataframe\">\n",
       "  <thead>\n",
       "    <tr style=\"text-align: right;\">\n",
       "      <th></th>\n",
       "      <th>assignment</th>\n",
       "      <th>exam</th>\n",
       "    </tr>\n",
       "  </thead>\n",
       "  <tbody>\n",
       "    <tr>\n",
       "      <td>160</td>\n",
       "      <td>52</td>\n",
       "      <td>2</td>\n",
       "    </tr>\n",
       "    <tr>\n",
       "      <td>161</td>\n",
       "      <td>84</td>\n",
       "      <td>30</td>\n",
       "    </tr>\n",
       "    <tr>\n",
       "      <td>162</td>\n",
       "      <td>40</td>\n",
       "      <td>33</td>\n",
       "    </tr>\n",
       "    <tr>\n",
       "      <td>163</td>\n",
       "      <td>76</td>\n",
       "      <td>66</td>\n",
       "    </tr>\n",
       "    <tr>\n",
       "      <td>164</td>\n",
       "      <td>54</td>\n",
       "      <td>59</td>\n",
       "    </tr>\n",
       "    <tr>\n",
       "      <td>...</td>\n",
       "      <td>...</td>\n",
       "      <td>...</td>\n",
       "    </tr>\n",
       "    <tr>\n",
       "      <td>395</td>\n",
       "      <td>67</td>\n",
       "      <td>28</td>\n",
       "    </tr>\n",
       "    <tr>\n",
       "      <td>396</td>\n",
       "      <td>65</td>\n",
       "      <td>85</td>\n",
       "    </tr>\n",
       "    <tr>\n",
       "      <td>397</td>\n",
       "      <td>12</td>\n",
       "      <td>61</td>\n",
       "    </tr>\n",
       "    <tr>\n",
       "      <td>398</td>\n",
       "      <td>20</td>\n",
       "      <td>3</td>\n",
       "    </tr>\n",
       "    <tr>\n",
       "      <td>399</td>\n",
       "      <td>38</td>\n",
       "      <td>88</td>\n",
       "    </tr>\n",
       "  </tbody>\n",
       "</table>\n",
       "<p>240 rows × 2 columns</p>\n",
       "</div>"
      ],
      "text/plain": [
       "     assignment  exam\n",
       "160          52     2\n",
       "161          84    30\n",
       "162          40    33\n",
       "163          76    66\n",
       "164          54    59\n",
       "..          ...   ...\n",
       "395          67    28\n",
       "396          65    85\n",
       "397          12    61\n",
       "398          20     3\n",
       "399          38    88\n",
       "\n",
       "[240 rows x 2 columns]"
      ]
     },
     "execution_count": 10,
     "metadata": {},
     "output_type": "execute_result"
    }
   ],
   "source": [
    "# Input dataset\n",
    "input_dataset = full_dataset[int(total_row*slicing):][[\"assignment\", \"exam\"]]\n",
    "input_dataset"
   ]
  },
  {
   "cell_type": "code",
   "execution_count": 11,
   "metadata": {},
   "outputs": [],
   "source": [
    "# Determine Real Output Class\n",
    "def grade(assignment, exam):\n",
    "    result = (0.4 * assignment) + (0.6 * exam)\n",
    "    if (result >= 80):\n",
    "        return 'A'\n",
    "    elif (result >= 50):\n",
    "        return 'B'\n",
    "    else:\n",
    "        return 'C'"
   ]
  },
  {
   "cell_type": "code",
   "execution_count": 12,
   "metadata": {},
   "outputs": [
    {
     "name": "stdout",
     "output_type": "stream",
     "text": [
      "Procced Data: 24\n",
      "Procced Data: 48\n",
      "Procced Data: 72\n",
      "Procced Data: 96\n",
      "Procced Data: 120\n",
      "Procced Data: 144\n",
      "Procced Data: 168\n",
      "Procced Data: 192\n",
      "Procced Data: 216\n",
      "Procced Data: 240\n",
      "Done!\n"
     ]
    }
   ],
   "source": [
    "# Do KNN\n",
    "max_k = 10\n",
    "result_accuracy = knn(labeled_dataset, input_dataset, max_k)"
   ]
  },
  {
   "cell_type": "code",
   "execution_count": 15,
   "metadata": {},
   "outputs": [
    {
     "data": {
      "image/png": "[encoded data removed]",
      "text/plain": [
       "<Figure size 432x288 with 1 Axes>"
      ]
     },
     "metadata": {
      "needs_background": "light"
     },
     "output_type": "display_data"
    }
   ],
   "source": [
    "# Plot Accuracy\n",
    "plot_accuracy(result_accuracy)"
   ]
  }
 ],
 "metadata": {
  "kernelspec": {
   "display_name": "Python 3",
   "language": "python",
   "name": "python3"
  },
  "language_info": {
   "codemirror_mode": {
    "name": "ipython",
    "version": 3
   },
   "file_extension": ".py",
   "mimetype": "text/x-python",
   "name": "python",
   "nbconvert_exporter": "python",
   "pygments_lexer": "ipython3",
   "version": "3.7.3"
  }
 },
 "nbformat": 4,
 "nbformat_minor": 2
}
